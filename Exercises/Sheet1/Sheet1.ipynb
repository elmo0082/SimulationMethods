{
 "cells": [
  {
   "cell_type": "markdown",
   "metadata": {},
   "source": [
    "# Simulation Methods Sheet 1"
   ]
  },
  {
   "cell_type": "markdown",
   "metadata": {},
   "source": [
    "### Exercise 1.1\n",
    "\n",
    "Running the C/C++ code, we obtain:\n",
    "\n",
    "    y = 6 and z = 5.5\n",
    "\n",
    "The reason for this effect lies in the fact that when i/2 is executed with i = 7, we divide two integers and there are no more bytes to represent the fractional part. Thus, the result is 3 and we find y =6.\n",
    "\n",
    "When calculating i/2. with i = 7, we divide an integer by a float. Technically this is not possible, so the compiler does an implicit typecast on the 7 from integer to float. Then the calculation is executed and will yield a float. The float type offers the possibility to represent the fractional part and thus the result is 5.5."
   ]
  },
  {
   "cell_type": "markdown",
   "metadata": {},
   "source": [
    "### Exercise 1.2\n",
    "\n",
    "Running the C/C++ code, we obtain the following results:\n",
    "\n",
    "    x = 1 and y = 0\n",
    "\n",
    "The correct result on the other hand would be 1 and only x is correct. The reason for the non-associativity here lies in the fact that the C/C++ double has a precision limited to 16 significant digits. Thus, when adding -1.0e17 and 1 to obtain y, the computer drops the 1.0 as it is not able to represent it in the mantissa, because there are not enough bytes for it.\n",
    "\n",
    "When 1.0e17 and -1.0e17 are added, they cancel each other and the result is zero. Adding 1.0, we are left with the correct result. Here we do not run into to problem with a mantissa that is not large enough."
   ]
  },
  {
   "cell_type": "markdown",
   "metadata": {},
   "source": [
    "### Exercise 1.3\n",
    "\n",
    "Running the C/C++ code, we obtain the following results:\n",
    "\n",
    "    x = 1e20 and y = inf\n",
    "\n",
    "The reason for this behavior is the following. When x is squared to obtain y, the numerical value of y would become 1e40. This is not possible as the largest value that a float in C/C++ can represent is approximately 3.402e38. Thus, y becomes a non-normalized representation y=(inf). When this non-normalized representation is then divided by x again, y is still non-normalized and thus has the value 1e20 but inf instead. Therefore the division yields y/x = inf."
   ]
  },
  {
   "cell_type": "markdown",
   "metadata": {},
   "source": [
    "### Exercise 2\n",
    "1) Calculating the limit can be done by applying the l'Hôspital rule 2 times or by expanding the exponential function into a series. In both cases, one obtains the value 1/2 for the limit.\n",
    "\n",
    "2) See below"
   ]
  },
  {
   "cell_type": "code",
   "execution_count": 1,
   "metadata": {},
   "outputs": [
    {
     "name": "stdout",
     "output_type": "stream",
     "text": [
      "The value of the function at x=1e-10 is f(x)=0.0\n"
     ]
    }
   ],
   "source": [
    "import numpy as np\n",
    "\n",
    "x = 1e-10 #Please enter the x-value where you want to evaluate the function\n",
    "x = np.float(x)\n",
    "\n",
    "y = (x + np.exp(-x) - 1)/(x*x)\n",
    "print(\"The value of the function at x=%s is f(x)=%s\" % (x, y))"
   ]
  },
  {
   "cell_type": "markdown",
   "metadata": {},
   "source": [
    "3) Experimentally, the evaluation goes wrong at approximately x<1e-8 (with numpy and python3.6).\n",
    "\n",
    "4) The reason for this is \n",
    "\n",
    "5) See below"
   ]
  },
  {
   "cell_type": "code",
   "execution_count": 2,
   "metadata": {},
   "outputs": [
    {
     "name": "stdout",
     "output_type": "stream",
     "text": [
      "The value of the function at x=1e-10 is f(x)=0.49999999998333333\n"
     ]
    }
   ],
   "source": [
    "import numpy as np\n",
    "\n",
    "x = 1e-10 #Please enter the x-value where you want to evaluate the function\n",
    "x = np.float(x)\n",
    "y = 0\n",
    "\n",
    "if x < 1e-7:\n",
    "    for n in range(25):\n",
    "        y = y + np.power(-x, n)/np.math.factorial(n+2)\n",
    "else:\n",
    "    y = (x + np.exp(-x) - 1)/(x*x)\n",
    "\n",
    "print(\"The value of the function at x=%s is f(x)=%s\" % (x, y))"
   ]
  },
  {
   "cell_type": "code",
   "execution_count": null,
   "metadata": {},
   "outputs": [],
   "source": []
  }
 ],
 "metadata": {
  "kernelspec": {
   "display_name": "Python 3",
   "language": "python",
   "name": "python3"
  },
  "language_info": {
   "codemirror_mode": {
    "name": "ipython",
    "version": 3
   },
   "file_extension": ".py",
   "mimetype": "text/x-python",
   "name": "python",
   "nbconvert_exporter": "python",
   "pygments_lexer": "ipython3",
   "version": "3.6.7"
  }
 },
 "nbformat": 4,
 "nbformat_minor": 2
}
